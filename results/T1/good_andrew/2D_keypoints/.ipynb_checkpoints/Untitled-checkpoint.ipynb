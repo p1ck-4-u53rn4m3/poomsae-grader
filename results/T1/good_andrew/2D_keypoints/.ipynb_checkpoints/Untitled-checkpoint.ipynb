{
 "cells": [
  {
   "cell_type": "code",
   "execution_count": 2,
   "metadata": {},
   "outputs": [
    {
     "name": "stdout",
     "output_type": "stream",
     "text": [
      "[1, 2, 3, 4, 5, 6, 7, 8, 9, 10, 11, 12, 13, 14, 15, 16, 17, 18, 19, 20, 21, 22, 23, 24, 25, 26, 27, 28, 29, 30, 31, 32, 33, 34, 35, 36, 37, 38, 39, 40, 41, 42, 43, 44, 46, 72, 74, 76, 105, 106, 107, 108, 109, 110, 111, 141, 142, 143, 144, 170, 171, 172, 173, 174, 175, 176, 204, 215, 216, 217, 218, 219, 220, 221, 222, 223, 224, 286, 288, 289, 290, 291, 292, 324, 356, 357, 358, 359, 360, 404, 405, 406, 407, 408, 409, 410, 411, 412, 493, 494, 495, 496, 497, 498, 531, 583, 584, 585, 586, 587, 588, 589, 590, 622, 624, 625, 626, 627, 629, 631, 657, 659, 660, 661, 662, 663, 664, 665, 666, 667, 668, 669, 670, 671, 672, 673, 674, 675, 676, 677, 678, 679, 680, 681, 682, 683, 684, 685, 686, 687, 688, 689, 690, 691, 692, 693, 694, 695, 696, 697, 698, 699, 700, 701, 704, 705, 738, 739, 740, 741, 742, 743, 744, 745, 746, 747, 748, 749, 750, 751, 752, 753, 755, 756, 757, 758, 759, 760, 761, 762, 763, 764, 765, 766, 767, 768, 769, 770, 771, 772, 773, 774, 775, 776, 777, 778, 779, 780, 781, 782, 783, 784, 785, 786, 787, 788, 789, 790, 791, 792, 793, 794, 795, 796, 797, 798, 799, 800, 801, 802, 803, 804, 805, 806, 807, 808, 809, 810, 811, 812, 813, 814, 815, 816, 817, 818, 819, 820, 821, 822, 823, 824, 825, 826, 827, 828, 829, 830]\n"
     ]
    },
    {
     "data": {
      "text/plain": [
       "'\\n<<<<<<< HEAD\\n    lwrist = (keypoints[], keypoints[])\\n=======\\n<<<<<<< HEAD\\n    lwrist = (keypoints[], keypoints[])\\n=======\\n\\n\\n\\n>>>>>>> b94a4f2543cfd2a6cb3a08dc4a7dbdcf3d81830c\\n>>>>>>> 884c8fad1dffd3d2a989a7a3adca10ae7f3740dc\\n'"
      ]
     },
     "execution_count": 2,
     "metadata": {},
     "output_type": "execute_result"
    }
   ],
   "source": [
    "import json\n",
    "import math\n",
    "\n",
    "BODY_25 = {\n",
    "\"Nose\": 0,\n",
    "\"Neck\": 1,\n",
    "\"RShoulder\": 2,\n",
    "\"RElbow\": 3,\n",
    "\"RWrist\": 4,\n",
    "\"LShoulder\": 5,\n",
    "\"LElbow\": 6,\n",
    "\"LWrist\": 7,\n",
    "\"MidHip\": 8,\n",
    "\"RHip\": 9,\n",
    "\"RKnee\": 10,\n",
    "\"RAnkle\": 11,\n",
    "\"LHip\": 12,\n",
    "\"LKnee\": 13,\n",
    "\"LAnkle\": 14,\n",
    "\"REye\": 15,\n",
    "\"LEye\": 16,\n",
    "\"REar\": 17,\n",
    "\"LEar\": 18,\n",
    "\"LBigToe\": 19,\n",
    "\"LSmallToe\": 20,\n",
    "\"LHeel\": 21,\n",
    "\"RBigToe\": 22,\n",
    "\"RSmallToe\": 23,\n",
    "\"RHeel\": 24,\n",
    "\"Background\": 25\n",
    "}\n",
    "\n",
    "def read_file(f):\n",
    "    ''' reads the json file of people arrays produced by OpenPose\n",
    "    input: name of json file\n",
    "    output: array of keypoints\n",
    "    '''\n",
    "    with open(f,'r') as file:\n",
    "        data = file.read()\n",
    "    obj = json.loads(data)\n",
    "    return obj[\"people\"][0][\"pose_keypoints_2d\"]\n",
    "\n",
    "\n",
    "def analyze(f, optimal):\n",
    "    ''' reads the json file of people arrays produced by OpenPose\n",
    "    input: name of json file\n",
    "    output: total score\n",
    "    '''\n",
    "    keypoints = read_file(f)\n",
    "\n",
    "def stop_points(file_list):\n",
    "    stops = []\n",
    "    current_frame = read_file(file_list[0])\n",
    "    for i in range(1,len(file_list)):\n",
    "        prev_frame = current_frame\n",
    "        current_frame = read_file(file_list[i])\n",
    "        diff = 0\n",
    "        for n in range(24):\n",
    "            diff += abs(prev_frame[3*n] - current_frame[3*n])\n",
    "            diff += abs(prev_frame[3*n+1] - current_frame[3*n+1])\n",
    "        if diff < 50:\n",
    "            stops.append(i)\n",
    "    ret = []\n",
    "    for i in range(len(stops)-1):\n",
    "        if stops[i+1]-stops[i] > 3:\n",
    "            ret.append(stops[i])\n",
    "            ret.append(stops[i+1])\n",
    "    return ret\n",
    "\n",
    "f_list = []\n",
    "for i in range(835):\n",
    "    name = 'andrew_good_'+('00000000000'+str(i))[-12:]+'_keypoints.json'\n",
    "    f_list.append(name)\n",
    "print(stop_points(f_list))\n",
    "\"\"\"\n",
    "<<<<<<< HEAD\n",
    "    lwrist = (keypoints[], keypoints[])\n",
    "=======\n",
    "<<<<<<< HEAD\n",
    "    lwrist = (keypoints[], keypoints[])\n",
    "=======\n",
    "\n",
    "\n",
    "\n",
    ">>>>>>> b94a4f2543cfd2a6cb3a08dc4a7dbdcf3d81830c\n",
    ">>>>>>> 884c8fad1dffd3d2a989a7a3adca10ae7f3740dc\n",
    "\"\"\"\n"
   ]
  },
  {
   "cell_type": "code",
   "execution_count": null,
   "metadata": {},
   "outputs": [],
   "source": []
  }
 ],
 "metadata": {
  "kernelspec": {
   "display_name": "Python 3",
   "language": "python",
   "name": "python3"
  },
  "language_info": {
   "codemirror_mode": {
    "name": "ipython",
    "version": 3
   },
   "file_extension": ".py",
   "mimetype": "text/x-python",
   "name": "python",
   "nbconvert_exporter": "python",
   "pygments_lexer": "ipython3",
   "version": "3.5.2"
  }
 },
 "nbformat": 4,
 "nbformat_minor": 2
}
