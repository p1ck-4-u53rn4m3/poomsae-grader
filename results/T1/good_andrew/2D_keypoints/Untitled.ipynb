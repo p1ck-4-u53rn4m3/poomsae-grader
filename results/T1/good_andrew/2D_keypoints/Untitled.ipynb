{
 "cells": [
  {
   "cell_type": "code",
   "execution_count": 6,
   "metadata": {},
   "outputs": [
    {
     "name": "stdout",
     "output_type": "stream",
     "text": [
      "[1, 46, 72, 76, 105, 111, 141, 144, 170, 176, 204, 204, 215, 224, 286, 292, 324, 324, 356, 360, 404, 412, 493, 498, 531, 531, 583, 590, 622, 631, 657, 705, 738]\n"
     ]
    },
    {
     "data": {
      "text/plain": [
       "'\\n<<<<<<< HEAD\\n    lwrist = (keypoints[], keypoints[])\\n=======\\n<<<<<<< HEAD\\n    lwrist = (keypoints[], keypoints[])\\n=======\\n\\n\\n\\n>>>>>>> b94a4f2543cfd2a6cb3a08dc4a7dbdcf3d81830c\\n>>>>>>> 884c8fad1dffd3d2a989a7a3adca10ae7f3740dc\\n'"
      ]
     },
     "execution_count": 6,
     "metadata": {},
     "output_type": "execute_result"
    }
   ],
   "source": [
    "import json\n",
    "import math\n",
    "\n",
    "BODY_25 = {\n",
    "\"Nose\": 0,\n",
    "\"Neck\": 1,\n",
    "\"RShoulder\": 2,\n",
    "\"RElbow\": 3,\n",
    "\"RWrist\": 4,\n",
    "\"LShoulder\": 5,\n",
    "\"LElbow\": 6,\n",
    "\"LWrist\": 7,\n",
    "\"MidHip\": 8,\n",
    "\"RHip\": 9,\n",
    "\"RKnee\": 10,\n",
    "\"RAnkle\": 11,\n",
    "\"LHip\": 12,\n",
    "\"LKnee\": 13,\n",
    "\"LAnkle\": 14,\n",
    "\"REye\": 15,\n",
    "\"LEye\": 16,\n",
    "\"REar\": 17,\n",
    "\"LEar\": 18,\n",
    "\"LBigToe\": 19,\n",
    "\"LSmallToe\": 20,\n",
    "\"LHeel\": 21,\n",
    "\"RBigToe\": 22,\n",
    "\"RSmallToe\": 23,\n",
    "\"RHeel\": 24,\n",
    "\"Background\": 25\n",
    "}\n",
    "\n",
    "def read_file(f):\n",
    "    ''' reads the json file of people arrays produced by OpenPose\n",
    "    input: name of json file\n",
    "    output: array of keypoints\n",
    "    '''\n",
    "    with open(f,'r') as file:\n",
    "        data = file.read()\n",
    "    obj = json.loads(data)\n",
    "    return obj[\"people\"][0][\"pose_keypoints_2d\"]\n",
    "\n",
    "\n",
    "def analyze(f, optimal):\n",
    "    ''' reads the json file of people arrays produced by OpenPose\n",
    "    input: name of json file\n",
    "    output: total score\n",
    "    '''\n",
    "    keypoints = read_file(f)\n",
    "\n",
    "def stop_points(file_list):\n",
    "    stops = []\n",
    "    current_frame = read_file(file_list[0])\n",
    "    for i in range(1,len(file_list)):\n",
    "        prev_frame = current_frame\n",
    "        current_frame = read_file(file_list[i])\n",
    "        diff = 0\n",
    "        for n in range(24):# Simple Velocity Drop\n",
    "            diff += abs(prev_frame[3*n] - current_frame[3*n])\n",
    "            diff += abs(prev_frame[3*n+1] - current_frame[3*n+1])\n",
    "        if diff < 50:\n",
    "            stops.append(i)\n",
    "    ret = [stops[0]]\n",
    "    for i in range(len(stops)-1):\n",
    "        if stops[i+1]-stops[i] > 3:\n",
    "            ret.append(stops[i])\n",
    "            ret.append(stops[i+1])\n",
    "    return ret\n",
    "\n",
    "f_list = []\n",
    "for i in range(835):\n",
    "    name = 'andrew_good_'+('00000000000'+str(i))[-12:]+'_keypoints.json'\n",
    "    f_list.append(name)\n",
    "print(stop_points(f_list))\n",
    "\"\"\"\n",
    "<<<<<<< HEAD\n",
    "    lwrist = (keypoints[], keypoints[])\n",
    "=======\n",
    "<<<<<<< HEAD\n",
    "    lwrist = (keypoints[], keypoints[])\n",
    "=======\n",
    "\n",
    "\n",
    "\n",
    ">>>>>>> b94a4f2543cfd2a6cb3a08dc4a7dbdcf3d81830c\n",
    ">>>>>>> 884c8fad1dffd3d2a989a7a3adca10ae7f3740dc\n",
    "\"\"\"\n"
   ]
  },
  {
   "cell_type": "code",
   "execution_count": null,
   "metadata": {},
   "outputs": [],
   "source": []
  }
 ],
 "metadata": {
  "kernelspec": {
   "display_name": "Python 3",
   "language": "python",
   "name": "python3"
  },
  "language_info": {
   "codemirror_mode": {
    "name": "ipython",
    "version": 3
   },
   "file_extension": ".py",
   "mimetype": "text/x-python",
   "name": "python",
   "nbconvert_exporter": "python",
   "pygments_lexer": "ipython3",
   "version": "3.5.2"
  }
 },
 "nbformat": 4,
 "nbformat_minor": 2
}
